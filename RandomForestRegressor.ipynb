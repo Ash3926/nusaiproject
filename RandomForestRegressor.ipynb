{
 "cells": [
  {
   "cell_type": "code",
   "execution_count": null,
   "id": "13de5269",
   "metadata": {},
   "outputs": [],
   "source": [
    "# Import necessary modules\n",
    "from sklearn.ensemble import RandomForestRegressor\n",
    "from sklearn.metrics import mean_absolute_percentage_error\n",
    "from sklearn.model_selection import GridSearchCV"
   ]
  },
  {
   "cell_type": "code",
   "execution_count": null,
   "id": "37d2c05f",
   "metadata": {},
   "outputs": [],
   "source": [
    "# Reading in training, validation and test data\n",
    "trainset = []\n",
    "valset = []\n",
    "testset = []\n",
    "\n",
    "with open(\"Datasets/19902009processedtraining.csv\") as f:\n",
    "  for row in f:\n",
    "    trainset.append(row.strip(\"\\n\").split(\",\"))\n",
    "\n",
    "with open(\"Datasets/20102014processedvalidation.csv\") as f:\n",
    "  for row in f:\n",
    "    valset.append(row.strip(\",\\n\").split(\",\"))\n",
    "\n",
    "with open(\"Datasets/20152019processedtesting.csv\") as f:\n",
    "  for row in f:\n",
    "    testset.append(row.strip(\"\\n\").split(\",\"))\n",
    "\n",
    "x_train = []\n",
    "y_train = []\n",
    "x_val = []\n",
    "y_val = []\n",
    "x_test = []\n",
    "y_test = []\n",
    "\n",
    "for record in trainset:\n",
    "  newrec = []\n",
    "  if record != ['']:\n",
    "    newrec = record[:5] + record[6:]\n",
    "    x_train.append(newrec)\n",
    "    y_train.append(record[5])\n",
    "\n",
    "for record in valset:\n",
    "  newrec = []\n",
    "  if record != ['']:\n",
    "    newrec = record[:5] + record[6:]\n",
    "    x_val.append(newrec)\n",
    "    y_val.append(record[5])\n",
    "\n",
    "for record in testset:\n",
    "  newrec = []\n",
    "  if record != ['']:\n",
    "    newrec = record[:5] + record[6:]\n",
    "    x_test.append(newrec)\n",
    "    y_test.append(record[5])"
   ]
  },
  {
   "cell_type": "code",
   "execution_count": null,
   "id": "ccde03f4",
   "metadata": {},
   "outputs": [],
   "source": [
    "#gridsearch hyperparameter tuning (Takes 40-50min to run)\n",
    "\n",
    "model = RandomForestRegressor(random_state=42) #defining the model\n",
    "\n",
    "param_grid = { #creating parameters to test\n",
    "    'n_estimators': [50, 100, 200],\n",
    "    'max_depth': [None, 10],\n",
    "}\n",
    "\n",
    "grid = GridSearchCV(model, param_grid, cv=3, scoring='neg_mean_absolute_percentage_error', n_jobs=-1, verbose=1)\n",
    "grid.fit(x_train, y_train) #perform grid search\n",
    "\n",
    "print(\"Best parameters:\", grid.best_params_) #getting best model\n",
    "best_model = grid.best_estimator_\n",
    "\n",
    "predictions = best_model.predict(x_test) #evaluating best model\n",
    "mape = mean_absolute_percentage_error(y_test, predictions)\n",
    "print(\"Validated model MAPE:\", mape)\n",
    "print(grid.best_params_)"
   ]
  },
  {
   "cell_type": "code",
   "execution_count": null,
   "id": "bb6f7f48",
   "metadata": {},
   "outputs": [],
   "source": [
    "# Merging the Train and Validation datasets for retraining\n",
    "for row in x_val:\n",
    "    x_train.append(row)\n",
    "\n",
    "for row in y_val:\n",
    "    y_train.append(row)"
   ]
  },
  {
   "cell_type": "code",
   "execution_count": null,
   "id": "484b5126",
   "metadata": {},
   "outputs": [],
   "source": [
    "# Retraining and testing on test set\n",
    "final_RFmodel = RandomForestRegressor(**grid.best_params_, random_state=42)\n",
    "final_RFmodel.fit(x_train, y_train)\n",
    "\n",
    "final_mape = mean_absolute_percentage_error(y_test, final_RFmodel.predict(x_test))\n",
    "print(\"Final MAPE:\", final_mape)"
   ]
  }
 ],
 "metadata": {
  "kernelspec": {
   "display_name": "Python 3",
   "language": "python",
   "name": "python3"
  },
  "language_info": {
   "codemirror_mode": {
    "name": "ipython",
    "version": 3
   },
   "file_extension": ".py",
   "mimetype": "text/x-python",
   "name": "python",
   "nbconvert_exporter": "python",
   "pygments_lexer": "ipython3",
   "version": "3.12.0"
  }
 },
 "nbformat": 4,
 "nbformat_minor": 5
}
